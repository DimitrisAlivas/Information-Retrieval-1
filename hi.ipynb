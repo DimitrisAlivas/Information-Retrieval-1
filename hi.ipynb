{
 "cells": [
  {
   "cell_type": "code",
   "execution_count": 1,
   "metadata": {
    "collapsed": false
   },
   "outputs": [
    {
     "name": "stdout",
     "output_type": "stream",
     "text": [
      "Populating the interactive namespace from numpy and matplotlib\n"
     ]
    }
   ],
   "source": [
    "###\n",
    "from __future__ import absolute_import\n",
    "from __future__ import division\n",
    "from __future__ import print_function\n",
    "%pylab inline\n",
    "import itertools\n"
   ]
  },
  {
   "cell_type": "code",
   "execution_count": 5,
   "metadata": {
    "collapsed": false
   },
   "outputs": [],
   "source": [
    "def pretty_print(sample,result,k,method='precision'):\n",
    "    '''\n",
    "        Function for pretty printing precision@k.\n",
    "        args: \n",
    "            sample     : the retrieval sample\n",
    "            result     : the precision@k/ndcg@k of the sample\n",
    "            k          : the k of evaluation\n",
    "        Not to be used (necessarily) \n",
    "        just for showing some results\n",
    "    '''\n",
    "    print('{0},{1},{2},{3},{4}'.format(sample[0],sample[1],sample[2],sample[3],sample[4]))\n",
    "    if method=='precision':\n",
    "        print('Precision@%d:\\t%0.2f'%(k,result))\n",
    "    elif method=='ndcg':\n",
    "        print('ndcg@%d:\\t%0.2f'%(k,result))\n",
    "\n",
    "def precision_at_k(ret, k):\n",
    "    '''\n",
    "        Function for calculating the precision@k for a single sample\n",
    "        args:\n",
    "            rel    : the retrieval sample\n",
    "            k      : the k of evaluation\n",
    "        returns:\n",
    "            precision@k\n",
    "    '''\n",
    "    assert k >= 1 , \"Precision@1 not supported\"\n",
    "    ret = np.asarray(ret)[:k] != 0\n",
    "    if ret.size != k:\n",
    "        raise ValueError('Relevance score length < k')\n",
    "    return np.mean(ret)\n",
    "\n",
    "def average_precision(ret):\n",
    "    '''\n",
    "        Function for calculating the average precision for a set of samples\n",
    "        args:\n",
    "            ret  : the retrieval samples \n",
    "        returns:\n",
    "            AP for all samples.\n",
    "    '''\n",
    "    ret = np.asarray(ret) != 0\n",
    "    out = []\n",
    "    #print(ret.shape)\n",
    "    for k in range(1,ret.shape[0]+1):\n",
    "        out.append(precision_at_k(ret,k))\n",
    "    \n",
    "    if not out:\n",
    "        return 0.\n",
    "    out = np.array([ '%.2f' % elem for elem in out ])\n",
    "    out = [float(i) for i in out]\n",
    "    return np.mean(out)\n",
    "    \n",
    "\n",
    "\n",
    "def dcg_at_k(ret,k):\n",
    "    '''\n",
    "        Function for calculating the dicsounted cumulative gain for a retrieval sample.\n",
    "        args:\n",
    "            ret : the retrieval sample\n",
    "            k   : the k for evaluation\n",
    "            \n",
    "        returns:\n",
    "            dcg : the discounted cumulative gain for a retrieval sample at rank k.\n",
    "    '''\n",
    "    assert k >= 1 , \"dcg@1 not supported\"\n",
    "    gain = np.power(2,ret)  - 1\n",
    "    r = np.arange(k) + 1\n",
    "    discount = np.log2(r+1)\n",
    "    dcg = gain/discount\n",
    "    return np.sum(dcg)\n",
    "\n",
    "def ndcg_at_k(ret,k):\n",
    "    '''\n",
    "        Function for calculating the normalized discounted cumulative gain for a retrieval sample.\n",
    "        args:\n",
    "            ret : the retrieval sample\n",
    "            k   : the k for evaluation\n",
    "            \n",
    "        returns:\n",
    "            dcg : the discounted cumulative gain for a retrieval sample at rank k.\n",
    "    '''\n",
    "    ndcg = dcg_at_k(sorted(ret, reverse=True), k)\n",
    "    return dcg_at_k(ret,k)/ndcg\n"
   ]
  },
  {
   "cell_type": "code",
   "execution_count": 12,
   "metadata": {
    "collapsed": false
   },
   "outputs": [],
   "source": [
    "def calculate_delta_measure(E_val, P_val, metric = None):\n",
    "    \n",
    "    if metric == \"PA\":\n",
    "        print(\"Calculating dcg delta measure\")\n",
    "        delta =  E_val - P_val\n",
    "    elif metric == \"dcg\":\n",
    "        print(\"Calculating dcg delta measure\")\n",
    "        delta = E_val - P_val\n",
    "        print (delta)\n",
    "    else:\n",
    "        print(\"hi\")"
   ]
  },
  {
   "cell_type": "markdown",
   "metadata": {},
   "source": [
    "##### Create  all possible combinations. \n",
    "\n"
   ]
  },
  {
   "cell_type": "code",
   "execution_count": 13,
   "metadata": {
    "collapsed": false
   },
   "outputs": [],
   "source": [
    "### 0 = N , 1 = R , 2 = HR \n",
    "x = [0,1,2]\n",
    "combinations = itertools.product(x, repeat=5)\n",
    "combinations = list(itertools.combinations(combinations, 2))\n"
   ]
  },
  {
   "cell_type": "markdown",
   "metadata": {},
   "source": [
    "##### Create all possible P/E pairs.\n",
    "##### --TODO create also the reverse of them (some are missing) e.g.:\n",
    "P:{N,N,N,N,R} <br>\n",
    "E:{N,N,N,N,N} \n",
    "##### reverse \n",
    "P:{N,N,N,N,N} <br>\n",
    "E:{N,N,N,N,R}"
   ]
  },
  {
   "cell_type": "code",
   "execution_count": 14,
   "metadata": {
    "collapsed": false
   },
   "outputs": [],
   "source": [
    "pe_pairs  = []\n",
    "for i in range(len(combinations)):\n",
    "    pe_pairs.append([combinations[i][0],combinations[i][0]])\n",
    "    pe_pairs.append([combinations[i][0],combinations[i][1]])\n",
    "    \n",
    "pe_pairs = np.asarray(pe_pairs)"
   ]
  },
  {
   "cell_type": "markdown",
   "metadata": {},
   "source": [
    "##### Shuffle and sample a subset ."
   ]
  },
  {
   "cell_type": "code",
   "execution_count": 15,
   "metadata": {
    "collapsed": false
   },
   "outputs": [
    {
     "name": "stdout",
     "output_type": "stream",
     "text": [
      "58806\n"
     ]
    }
   ],
   "source": [
    "print(len(pe_pairs))\n",
    "indices = np.arange(pe_pairs.shape[0])\n",
    "### THIS HAS TO BE CHANGED TO A UNIFORM\n",
    "np.random.shuffle(indices)\n",
    "pe_pairs = pe_pairs[indices]\n",
    "n = 1000\n",
    "sample_indices = np.random.choice(len(indices),n,replace=False)\n",
    "samples = pe_pairs[sample_indices]\n"
   ]
  },
  {
   "cell_type": "code",
   "execution_count": 16,
   "metadata": {
    "collapsed": false
   },
   "outputs": [
    {
     "name": "stdout",
     "output_type": "stream",
     "text": [
      "[0.45400000000000001, 0.54399999999999993, 1.0, 0.38600000000000001, 0.45400000000000001]\n",
      "[0.45600000000000007, 0.58600000000000008, 1.0, 0.70399999999999996, 0.45400000000000001]\n",
      "[0.71226306651459614, 0.65421732582938796, 0.82992507694387108, 0.55915069314098009, 0.65890720193788777]\n",
      "[1.0, 0.85136554718046331, 0.93550952614283955, 0.90602543553468229, 0.65890720193788777]\n",
      "Calculating dcg delta measure\n"
     ]
    },
    {
     "ename": "TypeError",
     "evalue": "unsupported operand type(s) for -: 'list' and 'list'",
     "output_type": "error",
     "traceback": [
      "\u001b[0;31m---------------------------------------------------------------------------\u001b[0m",
      "\u001b[0;31mTypeError\u001b[0m                                 Traceback (most recent call last)",
      "\u001b[0;32m<ipython-input-16-d0e8139fbe10>\u001b[0m in \u001b[0;36m<module>\u001b[0;34m()\u001b[0m\n\u001b[1;32m     31\u001b[0m \u001b[0;32mprint\u001b[0m\u001b[0;34m(\u001b[0m\u001b[0mE_ndcg_at_k\u001b[0m\u001b[0;34m)\u001b[0m\u001b[0;34m\u001b[0m\u001b[0m\n\u001b[1;32m     32\u001b[0m \u001b[0;34m\u001b[0m\u001b[0m\n\u001b[0;32m---> 33\u001b[0;31m \u001b[0mcalculate_delta_measure\u001b[0m\u001b[0;34m(\u001b[0m\u001b[0mP_average_prec\u001b[0m\u001b[0;34m,\u001b[0m\u001b[0mE_average_prec\u001b[0m\u001b[0;34m,\u001b[0m\u001b[0;34m\"PA\"\u001b[0m\u001b[0;34m)\u001b[0m\u001b[0;34m\u001b[0m\u001b[0m\n\u001b[0m\u001b[1;32m     34\u001b[0m \u001b[0;34m\u001b[0m\u001b[0m\n\u001b[1;32m     35\u001b[0m \u001b[0;31m#print (prec_list)\u001b[0m\u001b[0;34m\u001b[0m\u001b[0;34m\u001b[0m\u001b[0m\n",
      "\u001b[0;32m<ipython-input-12-5929d06aec3d>\u001b[0m in \u001b[0;36mcalculate_delta_measure\u001b[0;34m(E_val, P_val, metric)\u001b[0m\n\u001b[1;32m      3\u001b[0m     \u001b[0;32mif\u001b[0m \u001b[0mmetric\u001b[0m \u001b[0;34m==\u001b[0m \u001b[0;34m\"PA\"\u001b[0m\u001b[0;34m:\u001b[0m\u001b[0;34m\u001b[0m\u001b[0m\n\u001b[1;32m      4\u001b[0m         \u001b[0;32mprint\u001b[0m\u001b[0;34m(\u001b[0m\u001b[0;34m\"Calculating dcg delta measure\"\u001b[0m\u001b[0;34m)\u001b[0m\u001b[0;34m\u001b[0m\u001b[0m\n\u001b[0;32m----> 5\u001b[0;31m         \u001b[0mdelta\u001b[0m \u001b[0;34m=\u001b[0m  \u001b[0mE_val\u001b[0m \u001b[0;34m-\u001b[0m \u001b[0mP_val\u001b[0m\u001b[0;34m\u001b[0m\u001b[0m\n\u001b[0m\u001b[1;32m      6\u001b[0m     \u001b[0;32melif\u001b[0m \u001b[0mmetric\u001b[0m \u001b[0;34m==\u001b[0m \u001b[0;34m\"dcg\"\u001b[0m\u001b[0;34m:\u001b[0m\u001b[0;34m\u001b[0m\u001b[0m\n\u001b[1;32m      7\u001b[0m         \u001b[0;32mprint\u001b[0m\u001b[0;34m(\u001b[0m\u001b[0;34m\"Calculating dcg delta measure\"\u001b[0m\u001b[0;34m)\u001b[0m\u001b[0;34m\u001b[0m\u001b[0m\n",
      "\u001b[0;31mTypeError\u001b[0m: unsupported operand type(s) for -: 'list' and 'list'"
     ]
    }
   ],
   "source": [
    "p_pairs = pe_pairs[:,0]\n",
    "e_pairs = pe_pairs[:,1]\n",
    "\n",
    "#if (E_dcg > P_dcg):\n",
    "#    calculate_delta_measure(E_dcg,P_dcg,\"dcg\")\n",
    "\n",
    "### Initialize all possible score-lists that can be used later ##\n",
    "P_average_prec = []\n",
    "E_average_prec = []\n",
    "\n",
    "P_ndcg_at_k = []\n",
    "E_ndcg_at_k = []\n",
    "\n",
    "for i in range(5):\n",
    "    \n",
    "    #add all the average precisions\n",
    "    P_average_prec.append(average_precision(p_pairs[i]))\n",
    "    E_average_prec.append(average_precision(e_pairs[i]))\n",
    "    \n",
    "    #add all the dcg_at_k\n",
    "    P_ndcg_at_k.append(ndcg_at_k(p_pairs[i],5))\n",
    "    E_ndcg_at_k.append(ndcg_at_k(e_pairs[i],5))\n",
    "\n",
    "\n",
    "    \n",
    "### Prints for debug ###    \n",
    "print(P_average_prec)\n",
    "print(E_average_prec)\n",
    "\n",
    "print(P_ndcg_at_k)\n",
    "print(E_ndcg_at_k)\n",
    "\n",
    "calculate_delta_measure(P_average_prec,E_average_prec,\"PA\")\n",
    "\n",
    "#print (prec_list)\n",
    "#print (dcg5_list)\n",
    "#print (average_list)"
   ]
  },
  {
   "cell_type": "code",
   "execution_count": null,
   "metadata": {
    "collapsed": false
   },
   "outputs": [],
   "source": []
  },
  {
   "cell_type": "code",
   "execution_count": null,
   "metadata": {
    "collapsed": true
   },
   "outputs": [],
   "source": []
  }
 ],
 "metadata": {
  "anaconda-cloud": {},
  "kernelspec": {
   "display_name": "Python 2",
   "language": "python",
   "name": "python2"
  },
  "language_info": {
   "codemirror_mode": {
    "name": "ipython",
    "version": 2
   },
   "file_extension": ".py",
   "mimetype": "text/x-python",
   "name": "python",
   "nbconvert_exporter": "python",
   "pygments_lexer": "ipython2",
   "version": "2.7.12"
  }
 },
 "nbformat": 4,
 "nbformat_minor": 1
}
