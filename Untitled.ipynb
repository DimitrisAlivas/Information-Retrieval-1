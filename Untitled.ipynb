{
 "cells": [
  {
   "cell_type": "code",
   "execution_count": 1,
   "metadata": {
    "collapsed": false
   },
   "outputs": [
    {
     "name": "stdout",
     "output_type": "stream",
     "text": [
      "Populating the interactive namespace from numpy and matplotlib\n"
     ]
    }
   ],
   "source": [
    "###\n",
    "from __future__ import absolute_import\n",
    "from __future__ import division\n",
    "from __future__ import print_function\n",
    "%pylab inline\n",
    "import itertools\n"
   ]
  },
  {
   "cell_type": "code",
   "execution_count": 72,
   "metadata": {
    "collapsed": false
   },
   "outputs": [],
   "source": [
    "def pretty_print(sample,result,k,method='precision'):\n",
    "    '''\n",
    "        Function for pretty printing precision@k.\n",
    "        args: \n",
    "            sample     : the retrieval sample\n",
    "            result     : the precision@k/ndcg@k of the sample\n",
    "            k          : the k of evaluation\n",
    "        Not to be used (necessarily) \n",
    "        just for showing some results\n",
    "    '''\n",
    "    print('{0},{1},{2},{3},{4}'.format(sample[0],sample[1],sample[2],sample[3],sample[4]))\n",
    "    if method=='precision':\n",
    "        print('Precision@%d:\\t%0.2f'%(k,result))\n",
    "    elif method=='ndcg':\n",
    "        print('ndcg@%d:\\t%0.2f'%(k,result))\n",
    "\n",
    "def precision_at_k(ret, k):\n",
    "    '''\n",
    "        Function for calculating the precision@k for a single sample\n",
    "        args:\n",
    "            rel    : the retrieval sample\n",
    "            k      : the k of evaluation\n",
    "        returns:\n",
    "            precision@k\n",
    "    '''\n",
    "    assert k >= 1 , \"Precision@1 not supported\"\n",
    "    ret = np.asarray(ret)[:k] != 0\n",
    "    if ret.size != k:\n",
    "        raise ValueError('Relevance score length < k')\n",
    "    return np.mean(ret)\n",
    "\n",
    "def average_precision(ret):\n",
    "    '''\n",
    "        Function for calculating the average precision for a set of samples\n",
    "        args:\n",
    "            ret  : the retrieval samples \n",
    "        returns:\n",
    "            AP for all samples.\n",
    "    '''\n",
    "    ret = np.asarray(ret) != 0\n",
    "    out = []\n",
    "    for i in range(ret.shape[0]):\n",
    "        for k in range(1,ret.shape[1]+1):\n",
    "            out.append(precision_at_k(ret[i],k))\n",
    "    \n",
    "    if not out:\n",
    "        return 0.\n",
    "    out = np.array([ '%.2f' % elem for elem in out ])\n",
    "    out = [float(i) for i in out]\n",
    "    return np.mean(out)\n",
    "    \n",
    "\n",
    "\n",
    "def dcg_at_k(ret,k):\n",
    "    '''\n",
    "        Function for calculating the dicsounted cumulative gain for a retrieval sample.\n",
    "        args:\n",
    "            ret : the retrieval sample\n",
    "            k   : the k for evaluation\n",
    "            \n",
    "        returns:\n",
    "            dcg : the discounted cumulative gain for a retrieval sample at rank k.\n",
    "    '''\n",
    "    assert k >= 1 , \"dcg@1 not supported\"\n",
    "    gain = np.power(2,ret)  - 1\n",
    "    r = np.arange(k) + 1\n",
    "    discount = np.log2(r+1)\n",
    "    dcg = gain/discount\n",
    "    return np.sum(dcg)\n",
    "\n",
    "def ndcg_at_k(ret,k):\n",
    "    '''\n",
    "        Function for calculating the normalized discounted cumulative gain for a retrieval sample.\n",
    "        args:\n",
    "            ret : the retrieval sample\n",
    "            k   : the k for evaluation\n",
    "            \n",
    "        returns:\n",
    "            dcg : the discounted cumulative gain for a retrieval sample at rank k.\n",
    "    '''\n",
    "    ndcg = dcg_at_k(sorted(ret, reverse=True), k)\n",
    "    return dcg_at_k(ret,k)/ndcg"
   ]
  },
  {
   "cell_type": "markdown",
   "metadata": {},
   "source": [
    "##### Create  all possible combinations. \n",
    "\n"
   ]
  },
  {
   "cell_type": "code",
   "execution_count": 65,
   "metadata": {
    "collapsed": false
   },
   "outputs": [],
   "source": [
    "### 0 = N , 1 = R , 2 = HR \n",
    "x = [0,1,2]\n",
    "combinations = itertools.product(x, repeat=5)\n",
    "combinations = list(itertools.combinations(combinations, 2))\n"
   ]
  },
  {
   "cell_type": "markdown",
   "metadata": {},
   "source": [
    "##### Create all possible P/E pairs.\n",
    "##### --TODO create also the reverse of them (some are missing) e.g.:\n",
    "P:{N,N,N,N,R} <br>\n",
    "E:{N,N,N,N,N} \n",
    "##### reverse \n",
    "P:{N,N,N,N,N} <br>\n",
    "E:{N,N,N,N,R}"
   ]
  },
  {
   "cell_type": "code",
   "execution_count": 66,
   "metadata": {
    "collapsed": false
   },
   "outputs": [],
   "source": [
    "pe_pairs  = []\n",
    "for i in range(len(combinations)):\n",
    "    pe_pairs.append([combinations[i][0],combinations[i][0]])\n",
    "    pe_pairs.append([combinations[i][0],combinations[i][1]])\n",
    "pe_pairs = np.asarray(pe_pairs)\n"
   ]
  },
  {
   "cell_type": "markdown",
   "metadata": {},
   "source": [
    "##### Shuffle and sample a subset ."
   ]
  },
  {
   "cell_type": "code",
   "execution_count": 67,
   "metadata": {
    "collapsed": false
   },
   "outputs": [
    {
     "name": "stdout",
     "output_type": "stream",
     "text": [
      "58806\n"
     ]
    }
   ],
   "source": [
    "print(len(pe_pairs))\n",
    "indices = np.arange(pe_pairs.shape[0])\n",
    "### THIS HAS TO BE CHANGED TO A UNIFORM\n",
    "# np.random.shuffle(indices)\n",
    "# pe_pairs = pe_pairs[indices]\n",
    "n = 1000\n",
    "sample_indices = np.random.choice(len(indices),n,replace=False)\n",
    "samples = pe_pairs[sample_indices]\n"
   ]
  },
  {
   "cell_type": "code",
   "execution_count": null,
   "metadata": {
    "collapsed": false
   },
   "outputs": [],
   "source": []
  },
  {
   "cell_type": "code",
   "execution_count": 73,
   "metadata": {
    "collapsed": false
   },
   "outputs": [
    {
     "name": "stdout",
     "output_type": "stream",
     "text": [
      "1,0,1,0,0\n",
      "Precision@5:\t0.40\n",
      "1,0,1,0,0\n",
      "ndcg@5:\t0.92\n",
      "0,0,1,1,0\n",
      "Precision@5:\t0.40\n",
      "0,0,1,1,0\n",
      "ndcg@5:\t0.57\n",
      "0,0,2,1,2\n",
      "Precision@5:\t0.60\n",
      "0,0,2,1,2\n",
      "ndcg@5:\t0.57\n",
      "2,1,1,0,1\n",
      "Precision@5:\t0.80\n",
      "2,1,1,0,1\n",
      "ndcg@5:\t0.99\n",
      "2,0,2,1,2\n",
      "Precision@5:\t0.80\n",
      "2,0,2,1,2\n",
      "ndcg@5:\t0.89\n"
     ]
    }
   ],
   "source": [
    "\n",
    "for i in range(5):\n",
    "    p5 = precision_at_k(samples[i][0],5)\n",
    "    pretty_print(samples[i][0],p5,5)\n",
    "    dcg5 = ndcg_at_k(samples[i][0],5)\n",
    "    pretty_print(samples[i][0],dcg5,5,method='ndcg')"
   ]
  },
  {
   "cell_type": "code",
   "execution_count": null,
   "metadata": {
    "collapsed": false
   },
   "outputs": [],
   "source": []
  },
  {
   "cell_type": "code",
   "execution_count": null,
   "metadata": {
    "collapsed": true
   },
   "outputs": [],
   "source": []
  }
 ],
 "metadata": {
  "anaconda-cloud": {},
  "kernelspec": {
   "display_name": "Python 2",
   "language": "python",
   "name": "python2"
  },
  "language_info": {
   "codemirror_mode": {
    "name": "ipython",
    "version": 2
   },
   "file_extension": ".py",
   "mimetype": "text/x-python",
   "name": "python",
   "nbconvert_exporter": "python",
   "pygments_lexer": "ipython2",
   "version": "2.7.12"
  }
 },
 "nbformat": 4,
 "nbformat_minor": 1
}
